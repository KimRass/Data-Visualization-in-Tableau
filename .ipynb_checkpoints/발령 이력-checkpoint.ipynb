{
 "cells": [
  {
   "cell_type": "code",
   "execution_count": null,
   "metadata": {},
   "outputs": [],
   "source": [
    "import pandas as pd\n",
    "import re\n",
    "import openpyxl"
   ]
  },
  {
   "cell_type": "code",
   "execution_count": 1,
   "metadata": {},
   "outputs": [],
   "source": [
    "# appo = pd.read_csv(\"D:/디지털혁신팀/태블로/HR 분석/발령이력_18년이후_송부.csv\")\n",
    "\n",
    "# appo = appo.rename({\"성명\":\"name\", \"직급(위)\":\"rank\", \"발령시작일\":\"start\", \"발령종료일\":\"end\"}, axis=1)\n",
    "\n",
    "# appo[\"start\"] = appo[\"start\"].apply(lambda x:pd.to_datetime(x, format=\"%Y%m%d\"))\n",
    "# appo[\"end\"] = appo[\"end\"].apply(lambda x:pd.to_datetime(x, format=\"%Y%m%d\") if x != 99991231 else \"now\")\n",
    "# appo[\"end\"] = appo[\"end\"].dt.normalize()"
   ]
  },
  {
   "cell_type": "code",
   "execution_count": null,
   "metadata": {},
   "outputs": [],
   "source": [
    "# ref_date = \"2021-03-31\"\n",
    "# df = appo[(appo[\"start\"]<=ref_date) & (appo[\"end\"]>=ref_date)]"
   ]
  }
 ],
 "metadata": {
  "kernelspec": {
   "display_name": "Python 3",
   "language": "python",
   "name": "python3"
  },
  "language_info": {
   "codemirror_mode": {
    "name": "ipython",
    "version": 3
   },
   "file_extension": ".py",
   "mimetype": "text/x-python",
   "name": "python",
   "nbconvert_exporter": "python",
   "pygments_lexer": "ipython3",
   "version": "3.7.7"
  }
 },
 "nbformat": 4,
 "nbformat_minor": 4
}
